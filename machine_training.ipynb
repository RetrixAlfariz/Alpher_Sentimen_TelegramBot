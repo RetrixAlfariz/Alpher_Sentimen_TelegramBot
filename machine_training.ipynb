{
 "cells": [
  {
   "cell_type": "markdown",
   "metadata": {},
   "source": [
    "import dan inisialisasi library dan variable"
   ]
  },
  {
   "cell_type": "code",
   "execution_count": 1,
   "metadata": {},
   "outputs": [
    {
     "name": "stdout",
     "output_type": "stream",
     "text": [
      "Requirement already satisfied: transformers in c:\\users\\revian\\documents\\alixzer\\local_system\\tele_bot\\.venv\\lib\\site-packages (from -r requirements.txt (line 1)) (4.38.2)\n",
      "Requirement already satisfied: datasets in c:\\users\\revian\\documents\\alixzer\\local_system\\tele_bot\\.venv\\lib\\site-packages (from -r requirements.txt (line 2)) (2.18.0)\n",
      "Requirement already satisfied: evaluate in c:\\users\\revian\\documents\\alixzer\\local_system\\tele_bot\\.venv\\lib\\site-packages (from -r requirements.txt (line 3)) (0.4.1)\n",
      "Requirement already satisfied: torch in c:\\users\\revian\\documents\\alixzer\\local_system\\tele_bot\\.venv\\lib\\site-packages (from -r requirements.txt (line 4)) (2.2.1)\n",
      "Requirement already satisfied: scikit-learn in c:\\users\\revian\\documents\\alixzer\\local_system\\tele_bot\\.venv\\lib\\site-packages (from -r requirements.txt (line 5)) (1.4.1.post1)\n",
      "Requirement already satisfied: tqdm in c:\\users\\revian\\documents\\alixzer\\local_system\\tele_bot\\.venv\\lib\\site-packages (from -r requirements.txt (line 6)) (4.66.2)\n",
      "Requirement already satisfied: llama-cpp-python in c:\\users\\revian\\documents\\alixzer\\local_system\\tele_bot\\.venv\\lib\\site-packages (from -r requirements.txt (line 7)) (0.2.56)\n",
      "Requirement already satisfied: pandas in c:\\users\\revian\\documents\\alixzer\\local_system\\tele_bot\\.venv\\lib\\site-packages (from -r requirements.txt (line 8)) (2.2.1)\n",
      "Requirement already satisfied: python-dotenv in c:\\users\\revian\\documents\\alixzer\\local_system\\tele_bot\\.venv\\lib\\site-packages (from -r requirements.txt (line 9)) (1.0.1)\n",
      "Requirement already satisfied: Telethon==1.34.0 in c:\\users\\revian\\documents\\alixzer\\local_system\\tele_bot\\.venv\\lib\\site-packages (from -r requirements.txt (line 10)) (1.34.0)\n",
      "Requirement already satisfied: python-telegram-bot==20.8 in c:\\users\\revian\\documents\\alixzer\\local_system\\tele_bot\\.venv\\lib\\site-packages (from -r requirements.txt (line 11)) (20.8)\n",
      "Requirement already satisfied: pyaes in c:\\users\\revian\\documents\\alixzer\\local_system\\tele_bot\\.venv\\lib\\site-packages (from Telethon==1.34.0->-r requirements.txt (line 10)) (1.6.1)\n",
      "Requirement already satisfied: rsa in c:\\users\\revian\\documents\\alixzer\\local_system\\tele_bot\\.venv\\lib\\site-packages (from Telethon==1.34.0->-r requirements.txt (line 10)) (4.9)\n",
      "Requirement already satisfied: httpx~=0.26.0 in c:\\users\\revian\\documents\\alixzer\\local_system\\tele_bot\\.venv\\lib\\site-packages (from python-telegram-bot==20.8->-r requirements.txt (line 11)) (0.26.0)\n",
      "Requirement already satisfied: filelock in c:\\users\\revian\\documents\\alixzer\\local_system\\tele_bot\\.venv\\lib\\site-packages (from transformers->-r requirements.txt (line 1)) (3.13.1)\n",
      "Requirement already satisfied: huggingface-hub<1.0,>=0.19.3 in c:\\users\\revian\\documents\\alixzer\\local_system\\tele_bot\\.venv\\lib\\site-packages (from transformers->-r requirements.txt (line 1)) (0.21.4)\n",
      "Requirement already satisfied: numpy>=1.17 in c:\\users\\revian\\documents\\alixzer\\local_system\\tele_bot\\.venv\\lib\\site-packages (from transformers->-r requirements.txt (line 1)) (1.26.4)\n",
      "Requirement already satisfied: packaging>=20.0 in c:\\users\\revian\\documents\\alixzer\\local_system\\tele_bot\\.venv\\lib\\site-packages (from transformers->-r requirements.txt (line 1)) (24.0)\n",
      "Requirement already satisfied: pyyaml>=5.1 in c:\\users\\revian\\documents\\alixzer\\local_system\\tele_bot\\.venv\\lib\\site-packages (from transformers->-r requirements.txt (line 1)) (6.0.1)\n",
      "Requirement already satisfied: regex!=2019.12.17 in c:\\users\\revian\\documents\\alixzer\\local_system\\tele_bot\\.venv\\lib\\site-packages (from transformers->-r requirements.txt (line 1)) (2023.12.25)\n",
      "Requirement already satisfied: requests in c:\\users\\revian\\documents\\alixzer\\local_system\\tele_bot\\.venv\\lib\\site-packages (from transformers->-r requirements.txt (line 1)) (2.31.0)\n",
      "Requirement already satisfied: tokenizers<0.19,>=0.14 in c:\\users\\revian\\documents\\alixzer\\local_system\\tele_bot\\.venv\\lib\\site-packages (from transformers->-r requirements.txt (line 1)) (0.15.2)\n",
      "Requirement already satisfied: safetensors>=0.4.1 in c:\\users\\revian\\documents\\alixzer\\local_system\\tele_bot\\.venv\\lib\\site-packages (from transformers->-r requirements.txt (line 1)) (0.4.2)\n",
      "Requirement already satisfied: pyarrow>=12.0.0 in c:\\users\\revian\\documents\\alixzer\\local_system\\tele_bot\\.venv\\lib\\site-packages (from datasets->-r requirements.txt (line 2)) (15.0.1)\n",
      "Requirement already satisfied: pyarrow-hotfix in c:\\users\\revian\\documents\\alixzer\\local_system\\tele_bot\\.venv\\lib\\site-packages (from datasets->-r requirements.txt (line 2)) (0.6)\n",
      "Requirement already satisfied: dill<0.3.9,>=0.3.0 in c:\\users\\revian\\documents\\alixzer\\local_system\\tele_bot\\.venv\\lib\\site-packages (from datasets->-r requirements.txt (line 2)) (0.3.8)\n",
      "Requirement already satisfied: xxhash in c:\\users\\revian\\documents\\alixzer\\local_system\\tele_bot\\.venv\\lib\\site-packages (from datasets->-r requirements.txt (line 2)) (3.4.1)\n",
      "Requirement already satisfied: multiprocess in c:\\users\\revian\\documents\\alixzer\\local_system\\tele_bot\\.venv\\lib\\site-packages (from datasets->-r requirements.txt (line 2)) (0.70.16)\n",
      "Requirement already satisfied: fsspec<=2024.2.0,>=2023.1.0 in c:\\users\\revian\\documents\\alixzer\\local_system\\tele_bot\\.venv\\lib\\site-packages (from fsspec[http]<=2024.2.0,>=2023.1.0->datasets->-r requirements.txt (line 2)) (2024.2.0)\n",
      "Requirement already satisfied: aiohttp in c:\\users\\revian\\documents\\alixzer\\local_system\\tele_bot\\.venv\\lib\\site-packages (from datasets->-r requirements.txt (line 2)) (3.9.3)\n",
      "Requirement already satisfied: responses<0.19 in c:\\users\\revian\\documents\\alixzer\\local_system\\tele_bot\\.venv\\lib\\site-packages (from evaluate->-r requirements.txt (line 3)) (0.18.0)\n",
      "Requirement already satisfied: typing-extensions>=4.8.0 in c:\\users\\revian\\documents\\alixzer\\local_system\\tele_bot\\.venv\\lib\\site-packages (from torch->-r requirements.txt (line 4)) (4.10.0)\n",
      "Requirement already satisfied: sympy in c:\\users\\revian\\documents\\alixzer\\local_system\\tele_bot\\.venv\\lib\\site-packages (from torch->-r requirements.txt (line 4)) (1.12)\n",
      "Requirement already satisfied: networkx in c:\\users\\revian\\documents\\alixzer\\local_system\\tele_bot\\.venv\\lib\\site-packages (from torch->-r requirements.txt (line 4)) (3.2.1)\n",
      "Requirement already satisfied: jinja2 in c:\\users\\revian\\documents\\alixzer\\local_system\\tele_bot\\.venv\\lib\\site-packages (from torch->-r requirements.txt (line 4)) (3.1.3)\n",
      "Requirement already satisfied: scipy>=1.6.0 in c:\\users\\revian\\documents\\alixzer\\local_system\\tele_bot\\.venv\\lib\\site-packages (from scikit-learn->-r requirements.txt (line 5)) (1.12.0)\n",
      "Requirement already satisfied: joblib>=1.2.0 in c:\\users\\revian\\documents\\alixzer\\local_system\\tele_bot\\.venv\\lib\\site-packages (from scikit-learn->-r requirements.txt (line 5)) (1.3.2)\n",
      "Requirement already satisfied: threadpoolctl>=2.0.0 in c:\\users\\revian\\documents\\alixzer\\local_system\\tele_bot\\.venv\\lib\\site-packages (from scikit-learn->-r requirements.txt (line 5)) (3.3.0)\n",
      "Requirement already satisfied: colorama in c:\\users\\revian\\documents\\alixzer\\local_system\\tele_bot\\.venv\\lib\\site-packages (from tqdm->-r requirements.txt (line 6)) (0.4.6)\n",
      "Requirement already satisfied: diskcache>=5.6.1 in c:\\users\\revian\\documents\\alixzer\\local_system\\tele_bot\\.venv\\lib\\site-packages (from llama-cpp-python->-r requirements.txt (line 7)) (5.6.3)\n",
      "Requirement already satisfied: python-dateutil>=2.8.2 in c:\\users\\revian\\documents\\alixzer\\local_system\\tele_bot\\.venv\\lib\\site-packages (from pandas->-r requirements.txt (line 8)) (2.9.0.post0)\n",
      "Requirement already satisfied: pytz>=2020.1 in c:\\users\\revian\\documents\\alixzer\\local_system\\tele_bot\\.venv\\lib\\site-packages (from pandas->-r requirements.txt (line 8)) (2024.1)\n",
      "Requirement already satisfied: tzdata>=2022.7 in c:\\users\\revian\\documents\\alixzer\\local_system\\tele_bot\\.venv\\lib\\site-packages (from pandas->-r requirements.txt (line 8)) (2024.1)\n",
      "Requirement already satisfied: aiosignal>=1.1.2 in c:\\users\\revian\\documents\\alixzer\\local_system\\tele_bot\\.venv\\lib\\site-packages (from aiohttp->datasets->-r requirements.txt (line 2)) (1.3.1)\n",
      "Requirement already satisfied: attrs>=17.3.0 in c:\\users\\revian\\documents\\alixzer\\local_system\\tele_bot\\.venv\\lib\\site-packages (from aiohttp->datasets->-r requirements.txt (line 2)) (23.2.0)\n",
      "Requirement already satisfied: frozenlist>=1.1.1 in c:\\users\\revian\\documents\\alixzer\\local_system\\tele_bot\\.venv\\lib\\site-packages (from aiohttp->datasets->-r requirements.txt (line 2)) (1.4.1)\n",
      "Requirement already satisfied: multidict<7.0,>=4.5 in c:\\users\\revian\\documents\\alixzer\\local_system\\tele_bot\\.venv\\lib\\site-packages (from aiohttp->datasets->-r requirements.txt (line 2)) (6.0.5)\n",
      "Requirement already satisfied: yarl<2.0,>=1.0 in c:\\users\\revian\\documents\\alixzer\\local_system\\tele_bot\\.venv\\lib\\site-packages (from aiohttp->datasets->-r requirements.txt (line 2)) (1.9.4)\n",
      "Requirement already satisfied: anyio in c:\\users\\revian\\documents\\alixzer\\local_system\\tele_bot\\.venv\\lib\\site-packages (from httpx~=0.26.0->python-telegram-bot==20.8->-r requirements.txt (line 11)) (4.3.0)\n",
      "Requirement already satisfied: certifi in c:\\users\\revian\\documents\\alixzer\\local_system\\tele_bot\\.venv\\lib\\site-packages (from httpx~=0.26.0->python-telegram-bot==20.8->-r requirements.txt (line 11)) (2024.2.2)\n",
      "Requirement already satisfied: httpcore==1.* in c:\\users\\revian\\documents\\alixzer\\local_system\\tele_bot\\.venv\\lib\\site-packages (from httpx~=0.26.0->python-telegram-bot==20.8->-r requirements.txt (line 11)) (1.0.4)\n",
      "Requirement already satisfied: idna in c:\\users\\revian\\documents\\alixzer\\local_system\\tele_bot\\.venv\\lib\\site-packages (from httpx~=0.26.0->python-telegram-bot==20.8->-r requirements.txt (line 11)) (3.6)\n",
      "Requirement already satisfied: sniffio in c:\\users\\revian\\documents\\alixzer\\local_system\\tele_bot\\.venv\\lib\\site-packages (from httpx~=0.26.0->python-telegram-bot==20.8->-r requirements.txt (line 11)) (1.3.1)\n",
      "Requirement already satisfied: h11<0.15,>=0.13 in c:\\users\\revian\\documents\\alixzer\\local_system\\tele_bot\\.venv\\lib\\site-packages (from httpcore==1.*->httpx~=0.26.0->python-telegram-bot==20.8->-r requirements.txt (line 11)) (0.14.0)\n",
      "Requirement already satisfied: MarkupSafe>=2.0 in c:\\users\\revian\\documents\\alixzer\\local_system\\tele_bot\\.venv\\lib\\site-packages (from jinja2->torch->-r requirements.txt (line 4)) (2.1.5)\n",
      "Requirement already satisfied: six>=1.5 in c:\\users\\revian\\documents\\alixzer\\local_system\\tele_bot\\.venv\\lib\\site-packages (from python-dateutil>=2.8.2->pandas->-r requirements.txt (line 8)) (1.16.0)\n",
      "Requirement already satisfied: charset-normalizer<4,>=2 in c:\\users\\revian\\documents\\alixzer\\local_system\\tele_bot\\.venv\\lib\\site-packages (from requests->transformers->-r requirements.txt (line 1)) (3.3.2)\n",
      "Requirement already satisfied: urllib3<3,>=1.21.1 in c:\\users\\revian\\documents\\alixzer\\local_system\\tele_bot\\.venv\\lib\\site-packages (from requests->transformers->-r requirements.txt (line 1)) (2.2.1)\n",
      "Requirement already satisfied: pyasn1>=0.1.3 in c:\\users\\revian\\documents\\alixzer\\local_system\\tele_bot\\.venv\\lib\\site-packages (from rsa->Telethon==1.34.0->-r requirements.txt (line 10)) (0.5.1)\n",
      "Requirement already satisfied: mpmath>=0.19 in c:\\users\\revian\\documents\\alixzer\\local_system\\tele_bot\\.venv\\lib\\site-packages (from sympy->torch->-r requirements.txt (line 4)) (1.3.0)\n",
      "Note: you may need to restart the kernel to use updated packages.\n"
     ]
    }
   ],
   "source": [
    "%pip install -r requirements.txt"
   ]
  },
  {
   "cell_type": "code",
   "execution_count": 2,
   "metadata": {},
   "outputs": [
    {
     "name": "stdout",
     "output_type": "stream",
     "text": [
      "Requirement already satisfied: accelerate in c:\\users\\revian\\documents\\alixzer\\local_system\\tele_bot\\.venv\\lib\\site-packages (0.28.0)\n",
      "Requirement already satisfied: numpy>=1.17 in c:\\users\\revian\\documents\\alixzer\\local_system\\tele_bot\\.venv\\lib\\site-packages (from accelerate) (1.26.4)\n",
      "Requirement already satisfied: packaging>=20.0 in c:\\users\\revian\\documents\\alixzer\\local_system\\tele_bot\\.venv\\lib\\site-packages (from accelerate) (24.0)\n",
      "Requirement already satisfied: psutil in c:\\users\\revian\\documents\\alixzer\\local_system\\tele_bot\\.venv\\lib\\site-packages (from accelerate) (5.9.8)\n",
      "Requirement already satisfied: pyyaml in c:\\users\\revian\\documents\\alixzer\\local_system\\tele_bot\\.venv\\lib\\site-packages (from accelerate) (6.0.1)\n",
      "Requirement already satisfied: torch>=1.10.0 in c:\\users\\revian\\documents\\alixzer\\local_system\\tele_bot\\.venv\\lib\\site-packages (from accelerate) (2.2.1)\n",
      "Requirement already satisfied: huggingface-hub in c:\\users\\revian\\documents\\alixzer\\local_system\\tele_bot\\.venv\\lib\\site-packages (from accelerate) (0.21.4)\n",
      "Requirement already satisfied: safetensors>=0.3.1 in c:\\users\\revian\\documents\\alixzer\\local_system\\tele_bot\\.venv\\lib\\site-packages (from accelerate) (0.4.2)\n",
      "Requirement already satisfied: filelock in c:\\users\\revian\\documents\\alixzer\\local_system\\tele_bot\\.venv\\lib\\site-packages (from torch>=1.10.0->accelerate) (3.13.1)\n",
      "Requirement already satisfied: typing-extensions>=4.8.0 in c:\\users\\revian\\documents\\alixzer\\local_system\\tele_bot\\.venv\\lib\\site-packages (from torch>=1.10.0->accelerate) (4.10.0)\n",
      "Requirement already satisfied: sympy in c:\\users\\revian\\documents\\alixzer\\local_system\\tele_bot\\.venv\\lib\\site-packages (from torch>=1.10.0->accelerate) (1.12)\n",
      "Requirement already satisfied: networkx in c:\\users\\revian\\documents\\alixzer\\local_system\\tele_bot\\.venv\\lib\\site-packages (from torch>=1.10.0->accelerate) (3.2.1)\n",
      "Requirement already satisfied: jinja2 in c:\\users\\revian\\documents\\alixzer\\local_system\\tele_bot\\.venv\\lib\\site-packages (from torch>=1.10.0->accelerate) (3.1.3)\n",
      "Requirement already satisfied: fsspec in c:\\users\\revian\\documents\\alixzer\\local_system\\tele_bot\\.venv\\lib\\site-packages (from torch>=1.10.0->accelerate) (2024.2.0)\n",
      "Requirement already satisfied: requests in c:\\users\\revian\\documents\\alixzer\\local_system\\tele_bot\\.venv\\lib\\site-packages (from huggingface-hub->accelerate) (2.31.0)\n",
      "Requirement already satisfied: tqdm>=4.42.1 in c:\\users\\revian\\documents\\alixzer\\local_system\\tele_bot\\.venv\\lib\\site-packages (from huggingface-hub->accelerate) (4.66.2)\n",
      "Requirement already satisfied: colorama in c:\\users\\revian\\documents\\alixzer\\local_system\\tele_bot\\.venv\\lib\\site-packages (from tqdm>=4.42.1->huggingface-hub->accelerate) (0.4.6)\n",
      "Requirement already satisfied: MarkupSafe>=2.0 in c:\\users\\revian\\documents\\alixzer\\local_system\\tele_bot\\.venv\\lib\\site-packages (from jinja2->torch>=1.10.0->accelerate) (2.1.5)\n",
      "Requirement already satisfied: charset-normalizer<4,>=2 in c:\\users\\revian\\documents\\alixzer\\local_system\\tele_bot\\.venv\\lib\\site-packages (from requests->huggingface-hub->accelerate) (3.3.2)\n",
      "Requirement already satisfied: idna<4,>=2.5 in c:\\users\\revian\\documents\\alixzer\\local_system\\tele_bot\\.venv\\lib\\site-packages (from requests->huggingface-hub->accelerate) (3.6)\n",
      "Requirement already satisfied: urllib3<3,>=1.21.1 in c:\\users\\revian\\documents\\alixzer\\local_system\\tele_bot\\.venv\\lib\\site-packages (from requests->huggingface-hub->accelerate) (2.2.1)\n",
      "Requirement already satisfied: certifi>=2017.4.17 in c:\\users\\revian\\documents\\alixzer\\local_system\\tele_bot\\.venv\\lib\\site-packages (from requests->huggingface-hub->accelerate) (2024.2.2)\n",
      "Requirement already satisfied: mpmath>=0.19 in c:\\users\\revian\\documents\\alixzer\\local_system\\tele_bot\\.venv\\lib\\site-packages (from sympy->torch>=1.10.0->accelerate) (1.3.0)\n",
      "Note: you may need to restart the kernel to use updated packages.\n"
     ]
    }
   ],
   "source": [
    "%pip install accelerate -U"
   ]
  },
  {
   "cell_type": "code",
   "execution_count": 1,
   "metadata": {},
   "outputs": [
    {
     "name": "stderr",
     "output_type": "stream",
     "text": [
      "c:\\Users\\Revian\\Documents\\Alixzer\\local_system\\tele_bot\\.venv\\Lib\\site-packages\\tqdm\\auto.py:21: TqdmWarning: IProgress not found. Please update jupyter and ipywidgets. See https://ipywidgets.readthedocs.io/en/stable/user_install.html\n",
      "  from .autonotebook import tqdm as notebook_tqdm\n"
     ]
    }
   ],
   "source": [
    "import pandas as pd\n",
    "from datasets import Dataset\n",
    "from transformers import AutoTokenizer, AutoModelForSequenceClassification, Trainer, TrainingArguments\n",
    "from sklearn.model_selection import train_test_split\n",
    "from sklearn.metrics import precision_recall_fscore_support, accuracy_score\n",
    "from dotenv import load_dotenv\n",
    "import os"
   ]
  },
  {
   "cell_type": "code",
   "execution_count": 2,
   "metadata": {},
   "outputs": [],
   "source": [
    "load_dotenv()\n",
    "dataset_path = os.getenv('DATASET_PATH')\n",
    "model_path = os.getenv('MODEL_PATH')"
   ]
  },
  {
   "cell_type": "markdown",
   "metadata": {},
   "source": [
    "load dataset dan melihat dataset"
   ]
  },
  {
   "cell_type": "code",
   "execution_count": 3,
   "metadata": {},
   "outputs": [
    {
     "data": {
      "text/html": [
       "<div>\n",
       "<style scoped>\n",
       "    .dataframe tbody tr th:only-of-type {\n",
       "        vertical-align: middle;\n",
       "    }\n",
       "\n",
       "    .dataframe tbody tr th {\n",
       "        vertical-align: top;\n",
       "    }\n",
       "\n",
       "    .dataframe thead th {\n",
       "        text-align: right;\n",
       "    }\n",
       "</style>\n",
       "<table border=\"1\" class=\"dataframe\">\n",
       "  <thead>\n",
       "    <tr style=\"text-align: right;\">\n",
       "      <th></th>\n",
       "      <th>text</th>\n",
       "      <th>sentiment</th>\n",
       "    </tr>\n",
       "  </thead>\n",
       "  <tbody>\n",
       "    <tr>\n",
       "      <th>0</th>\n",
       "      <td>warung ini dimiliki oleh pengusaha pabrik tahu...</td>\n",
       "      <td>positive</td>\n",
       "    </tr>\n",
       "    <tr>\n",
       "      <th>1</th>\n",
       "      <td>mohon ulama lurus dan k212 mmbri hujjah partai...</td>\n",
       "      <td>neutral</td>\n",
       "    </tr>\n",
       "    <tr>\n",
       "      <th>2</th>\n",
       "      <td>lokasi strategis di jalan sumatera bandung . t...</td>\n",
       "      <td>positive</td>\n",
       "    </tr>\n",
       "    <tr>\n",
       "      <th>3</th>\n",
       "      <td>betapa bahagia nya diri ini saat unboxing pake...</td>\n",
       "      <td>positive</td>\n",
       "    </tr>\n",
       "    <tr>\n",
       "      <th>4</th>\n",
       "      <td>duh . jadi mahasiswa jangan sombong dong . kas...</td>\n",
       "      <td>negative</td>\n",
       "    </tr>\n",
       "  </tbody>\n",
       "</table>\n",
       "</div>"
      ],
      "text/plain": [
       "                                                text sentiment\n",
       "0  warung ini dimiliki oleh pengusaha pabrik tahu...  positive\n",
       "1  mohon ulama lurus dan k212 mmbri hujjah partai...   neutral\n",
       "2  lokasi strategis di jalan sumatera bandung . t...  positive\n",
       "3  betapa bahagia nya diri ini saat unboxing pake...  positive\n",
       "4  duh . jadi mahasiswa jangan sombong dong . kas...  negative"
      ]
     },
     "execution_count": 3,
     "metadata": {},
     "output_type": "execute_result"
    }
   ],
   "source": [
    "# Load the entire dataset\n",
    "data_full = pd.read_csv(dataset_path, sep='\\t', header=None, names=['text', 'sentiment'])\n",
    "\n",
    "# Display the first few rows to confirm loading\n",
    "data_full.head()"
   ]
  },
  {
   "cell_type": "markdown",
   "metadata": {},
   "source": [
    "proses awal"
   ]
  },
  {
   "cell_type": "code",
   "execution_count": 4,
   "metadata": {},
   "outputs": [
    {
     "name": "stderr",
     "output_type": "stream",
     "text": [
      "C:\\Users\\Revian\\AppData\\Local\\Temp\\ipykernel_30668\\2928587345.py:2: FutureWarning: Downcasting behavior in `replace` is deprecated and will be removed in a future version. To retain the old behavior, explicitly call `result.infer_objects(copy=False)`. To opt-in to the future behavior, set `pd.set_option('future.no_silent_downcasting', True)`\n",
      "  data_full['sentiment'] = data_full['sentiment'].replace(label_dict)\n"
     ]
    }
   ],
   "source": [
    "label_dict = {'positive': 1, 'neutral': 0, 'negative': 2}\n",
    "data_full['sentiment'] = data_full['sentiment'].replace(label_dict)"
   ]
  },
  {
   "cell_type": "code",
   "execution_count": 5,
   "metadata": {},
   "outputs": [],
   "source": [
    "tokenizer = AutoTokenizer.from_pretrained('indobenchmark/indobert-base-p1')\n",
    "#Tokenisasi\n",
    "def tokenize_function(examples):\n",
    "    return tokenizer(examples['text'], padding=\"max_length\", truncation=True, max_length=128)"
   ]
  },
  {
   "cell_type": "markdown",
   "metadata": {},
   "source": [
    "membagi dataset menjadi training dan validasi"
   ]
  },
  {
   "cell_type": "code",
   "execution_count": 6,
   "metadata": {},
   "outputs": [
    {
     "name": "stderr",
     "output_type": "stream",
     "text": [
      "Map: 100%|██████████| 9900/9900 [00:00<00:00, 18180.28 examples/s]\n",
      "Map: 100%|██████████| 1100/1100 [00:00<00:00, 18625.40 examples/s]\n"
     ]
    }
   ],
   "source": [
    "train_texts, val_texts, train_labels, val_labels = train_test_split(data_full['text'], data_full['sentiment'], test_size=0.1)\n",
    "\n",
    "train_dataset = Dataset.from_pandas(pd.DataFrame({'text': train_texts, 'labels': train_labels}))\n",
    "val_dataset = Dataset.from_pandas(pd.DataFrame({'text': val_texts, 'labels': val_labels}))\n",
    "\n",
    "train_dataset = train_dataset.map(tokenize_function, batched=True)\n",
    "val_dataset = val_dataset.map(tokenize_function, batched=True)\n",
    "\n",
    "train_dataset.set_format('torch', columns=['input_ids', 'attention_mask', 'labels'])\n",
    "val_dataset.set_format('torch', columns=['input_ids', 'attention_mask', 'labels'])"
   ]
  },
  {
   "cell_type": "markdown",
   "metadata": {},
   "source": [
    "training"
   ]
  },
  {
   "cell_type": "code",
   "execution_count": 7,
   "metadata": {},
   "outputs": [],
   "source": [
    "#menghitung metrik akurasi\n",
    "def compute_metrics(pred):\n",
    "    labels = pred.label_ids\n",
    "    preds = pred.predictions.argmax(-1)\n",
    "    precision, recall, f1, _ = precision_recall_fscore_support(labels, preds, average='weighted')\n",
    "    acc = accuracy_score(labels, preds)\n",
    "    return {\n",
    "        'accuracy': acc,\n",
    "        'f1': f1,\n",
    "        'precision': precision,\n",
    "        'recall': recall\n",
    "    }"
   ]
  },
  {
   "cell_type": "code",
   "execution_count": 8,
   "metadata": {},
   "outputs": [
    {
     "name": "stderr",
     "output_type": "stream",
     "text": [
      "Some weights of BertForSequenceClassification were not initialized from the model checkpoint at indobenchmark/indobert-base-p1 and are newly initialized: ['classifier.bias', 'classifier.weight']\n",
      "You should probably TRAIN this model on a down-stream task to be able to use it for predictions and inference.\n"
     ]
    }
   ],
   "source": [
    "model = AutoModelForSequenceClassification.from_pretrained('indobenchmark/indobert-base-p1', num_labels=3)"
   ]
  },
  {
   "cell_type": "code",
   "execution_count": 9,
   "metadata": {},
   "outputs": [
    {
     "name": "stderr",
     "output_type": "stream",
     "text": [
      "c:\\Users\\Revian\\Documents\\Alixzer\\local_system\\tele_bot\\.venv\\Lib\\site-packages\\accelerate\\accelerator.py:432: FutureWarning: Passing the following arguments to `Accelerator` is deprecated and will be removed in version 1.0 of Accelerate: dict_keys(['dispatch_batches', 'split_batches', 'even_batches', 'use_seedable_sampler']). Please pass an `accelerate.DataLoaderConfiguration` instead: \n",
      "dataloader_config = DataLoaderConfiguration(dispatch_batches=None, split_batches=False, even_batches=True, use_seedable_sampler=True)\n",
      "  warnings.warn(\n"
     ]
    }
   ],
   "source": [
    "training_args = TrainingArguments(\n",
    "    output_dir='./results',\n",
    "    num_train_epochs=3,\n",
    "    per_device_train_batch_size=8,\n",
    "    warmup_steps=500,\n",
    "    weight_decay=0.01,\n",
    "    logging_dir='./logs',\n",
    "    logging_steps=10,\n",
    "    evaluation_strategy=\"epoch\"\n",
    ")\n",
    "\n",
    "# Inisialisasi Trainer\n",
    "trainer = Trainer(\n",
    "    model=model,\n",
    "    args=training_args,\n",
    "    train_dataset=train_dataset,\n",
    "    eval_dataset=val_dataset,\n",
    "    compute_metrics=compute_metrics\n",
    ")"
   ]
  },
  {
   "cell_type": "code",
   "execution_count": null,
   "metadata": {},
   "outputs": [],
   "source": [
    "# Mulai training\n",
    "trainer.train()\n",
    "\n",
    "# Evaluasi\n",
    "trainer.evaluate()"
   ]
  },
  {
   "cell_type": "code",
   "execution_count": null,
   "metadata": {},
   "outputs": [],
   "source": [
    "# Menyimpan model dan tokenizer yang telah fine-tune\n",
    "model.save_pretrained(model_path)\n",
    "tokenizer.save_pretrained(model_path)"
   ]
  }
 ],
 "metadata": {
  "kernelspec": {
   "display_name": ".venv",
   "language": "python",
   "name": "python3"
  },
  "language_info": {
   "codemirror_mode": {
    "name": "ipython",
    "version": 3
   },
   "file_extension": ".py",
   "mimetype": "text/x-python",
   "name": "python",
   "nbconvert_exporter": "python",
   "pygments_lexer": "ipython3",
   "version": "3.11.5"
  }
 },
 "nbformat": 4,
 "nbformat_minor": 2
}
